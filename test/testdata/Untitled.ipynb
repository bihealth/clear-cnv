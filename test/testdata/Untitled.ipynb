{
 "cells": [
  {
   "cell_type": "code",
   "execution_count": 47,
   "metadata": {},
   "outputs": [],
   "source": [
    "import subprocess\n",
    "import pandas as pd\n",
    "import io"
   ]
  },
  {
   "cell_type": "code",
   "execution_count": 40,
   "metadata": {},
   "outputs": [],
   "source": [
    "reference=\"reference.fa\"\n",
    "bedfile=\"bedfile.bed\"\n",
    "bedfile_merged=\"merged.bed\"\n",
    "GC_annotation=\"GC_annotations.bed\"\n",
    "kmer_align=\"mappability.eq.1.bed\"\n",
    "mappability_annotation=\"mappability.bed\"\n",
    "annotations=\"annotations.bed\"\n",
    "cores=2"
   ]
  },
  {
   "cell_type": "code",
   "execution_count": 41,
   "metadata": {},
   "outputs": [],
   "source": [
    "f = open(mappability_annotation, \"wt\")\n",
    "p1 = subprocess.call([\"bedtools\", \"nuc\", \"-fi\", reference, \"-bed\", bedfile_merged], stdout=subprocess.PIPE)\n",
    "\n",
    "\n",
    "\n",
    "p1 = subprocess.Popen([\"bedtools\",\"merge\",\"-i\",bedfile,\"-c\",str(cores),\"-o\",\"collapse\"], stdout=subprocess.PIPE)\n",
    "p2 = subprocess.Popen([\"sort\", \"-V\", \"-k1,1\", \"-k2,2\"], stdin=p1.stdout, stdout=subprocess.PIPE)\n",
    "p1.stdout.close()  # Allow p1 to receive a SIGPIPE if p2 exits.\n",
    "output = p2.communicate()[0]\n",
    "f.close()"
   ]
  }
 ],
 "metadata": {
  "kernelspec": {
   "display_name": "Python 3",
   "language": "python",
   "name": "python3"
  },
  "language_info": {
   "codemirror_mode": {
    "name": "ipython",
    "version": 3
   },
   "file_extension": ".py",
   "mimetype": "text/x-python",
   "name": "python",
   "nbconvert_exporter": "python",
   "pygments_lexer": "ipython3",
   "version": "3.7.4"
  }
 },
 "nbformat": 4,
 "nbformat_minor": 4
}
